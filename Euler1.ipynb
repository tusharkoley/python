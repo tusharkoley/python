{
 "cells": [
  {
   "cell_type": "code",
   "execution_count": 3,
   "metadata": {},
   "outputs": [],
   "source": [
    "s=0\n",
    "for i in range(1,1000):\n",
    "    if i%3 ==0 or i%5 ==0:\n",
    "        s+=i"
   ]
  },
  {
   "cell_type": "code",
   "execution_count": 4,
   "metadata": {},
   "outputs": [
    {
     "data": {
      "text/plain": [
       "233168"
      ]
     },
     "execution_count": 4,
     "metadata": {},
     "output_type": "execute_result"
    }
   ],
   "source": [
    "s"
   ]
  },
  {
   "cell_type": "code",
   "execution_count": 11,
   "metadata": {},
   "outputs": [],
   "source": [
    "lst=[1,2]\n",
    "s=0\n",
    "while lst[-1] < 4000000:\n",
    "    f=lst[-2]+lst[-1]\n",
    "    lst.append(f)\n",
    "    if f%2==0:\n",
    "        s+=f\n",
    "        \n",
    "        \n",
    "    "
   ]
  },
  {
   "cell_type": "code",
   "execution_count": 13,
   "metadata": {},
   "outputs": [],
   "source": [
    "s=0\n",
    "for l in lst:\n",
    "    if l%2==0:\n",
    "        s+=l\n",
    "        "
   ]
  },
  {
   "cell_type": "code",
   "execution_count": 14,
   "metadata": {},
   "outputs": [
    {
     "data": {
      "text/plain": [
       "4613732"
      ]
     },
     "execution_count": 14,
     "metadata": {},
     "output_type": "execute_result"
    }
   ],
   "source": [
    "s"
   ]
  },
  {
   "cell_type": "code",
   "execution_count": 19,
   "metadata": {},
   "outputs": [],
   "source": [
    "s=600851475143'"
   ]
  },
  {
   "cell_type": "code",
   "execution_count": 46,
   "metadata": {},
   "outputs": [],
   "source": [
    "import math\n",
    "\n",
    "\n",
    "def lrg_div(n):\n",
    "    lst=[]  \n",
    "    m= math.floor(n**0.5)+1\n",
    "    \n",
    "    if m%2==0:\n",
    "        m-=1\n",
    "        \n",
    "    \n",
    "    for a in range(m,1,-2):\n",
    "        if n%a==0:\n",
    "            lst.append(a)\n",
    "            \n",
    "    return lst\n",
    "    "
   ]
  },
  {
   "cell_type": "code",
   "execution_count": 47,
   "metadata": {},
   "outputs": [
    {
     "data": {
      "text/plain": [
       "[486847, 104441, 59569, 6857, 1471, 839, 71]"
      ]
     },
     "execution_count": 47,
     "metadata": {},
     "output_type": "execute_result"
    }
   ],
   "source": [
    "lrg_div(600851475143)"
   ]
  },
  {
   "cell_type": "code",
   "execution_count": 48,
   "metadata": {},
   "outputs": [],
   "source": [
    "def chk_prim(n):\n",
    "    \n",
    "    m= math.floor(n**0.5)+1\n",
    "    \n",
    "    for a in range(3,m,2):\n",
    "        if n%a==0:\n",
    "            return False\n",
    "    \n",
    "    return True\n",
    "    \n",
    "    \n",
    "    "
   ]
  },
  {
   "cell_type": "code",
   "execution_count": 53,
   "metadata": {},
   "outputs": [
    {
     "data": {
      "text/plain": [
       "True"
      ]
     },
     "execution_count": 53,
     "metadata": {},
     "output_type": "execute_result"
    }
   ],
   "source": [
    "chk_prim(6857)"
   ]
  },
  {
   "cell_type": "code",
   "execution_count": 54,
   "metadata": {},
   "outputs": [
    {
     "data": {
      "text/plain": [
       "87625999.0"
      ]
     },
     "execution_count": 54,
     "metadata": {},
     "output_type": "execute_result"
    }
   ],
   "source": [
    "600851475143/6857"
   ]
  },
  {
   "cell_type": "code",
   "execution_count": 80,
   "metadata": {},
   "outputs": [
    {
     "data": {
      "text/plain": [
       "903108"
      ]
     },
     "execution_count": 80,
     "metadata": {},
     "output_type": "execute_result"
    }
   ],
   "source": [
    "932*969"
   ]
  },
  {
   "cell_type": "code",
   "execution_count": 66,
   "metadata": {},
   "outputs": [],
   "source": [
    "def is_pal(n):\n",
    "    s=str(n)\n",
    "    return s==s[::-1]"
   ]
  },
  {
   "cell_type": "code",
   "execution_count": 74,
   "metadata": {},
   "outputs": [
    {
     "data": {
      "text/plain": [
       "True"
      ]
     },
     "execution_count": 74,
     "metadata": {},
     "output_type": "execute_result"
    }
   ],
   "source": [
    "is_pal(819918)"
   ]
  },
  {
   "cell_type": "code",
   "execution_count": 1,
   "metadata": {},
   "outputs": [],
   "source": [
    "X=list(range(0,21))"
   ]
  },
  {
   "cell_type": "code",
   "execution_count": 2,
   "metadata": {},
   "outputs": [],
   "source": [
    "Y=list(range(0,21))"
   ]
  },
  {
   "cell_type": "code",
   "execution_count": 3,
   "metadata": {},
   "outputs": [
    {
     "data": {
      "text/plain": [
       "[0, 1, 2, 3, 4, 5, 6, 7, 8, 9, 10, 11, 12, 13, 14, 15, 16, 17, 18, 19, 20]"
      ]
     },
     "execution_count": 3,
     "metadata": {},
     "output_type": "execute_result"
    }
   ],
   "source": [
    "X"
   ]
  },
  {
   "cell_type": "code",
   "execution_count": 4,
   "metadata": {},
   "outputs": [],
   "source": [
    "from itertools import product, combinations"
   ]
  },
  {
   "cell_type": "code",
   "execution_count": 5,
   "metadata": {},
   "outputs": [],
   "source": [
    "lst=list(product(X,Y))"
   ]
  },
  {
   "cell_type": "code",
   "execution_count": 14,
   "metadata": {},
   "outputs": [],
   "source": [
    "def get_nxt(x,y):\n",
    "    \n",
    "    l=[]\n",
    "    for p in lst:\n",
    "        \n",
    "        if p==(x+1,y) or p==(x,y+1):\n",
    "            l.append(p)\n",
    "            \n",
    "    return l"
   ]
  },
  {
   "cell_type": "code",
   "execution_count": 16,
   "metadata": {},
   "outputs": [
    {
     "data": {
      "text/plain": [
       "[(3, 2), (4, 1)]"
      ]
     },
     "execution_count": 16,
     "metadata": {},
     "output_type": "execute_result"
    }
   ],
   "source": [
    "get_nxt(3,1)"
   ]
  },
  {
   "cell_type": "code",
   "execution_count": null,
   "metadata": {},
   "outputs": [],
   "source": []
  },
  {
   "cell_type": "code",
   "execution_count": null,
   "metadata": {},
   "outputs": [],
   "source": [
    "75\n",
    "95 64\n",
    "17 47 82\n",
    "18 35 87 10\n",
    "20 04 82 47 65\n",
    "19 01 23 75 03 34\n",
    "88 02 77 73 07 63 67\n",
    "99 65 04 28 06 16 70 92\n",
    "41 41 26 56 83 40 80 70 33\n",
    "41 48 72 33 47 32 37 16 94 29\n",
    "53 71 44 65 25 43 91 52 97 51 14\n",
    "70 11 33 28 77 73 17 78 39 68 17 57\n",
    "91 71 52 38 17 14 91 43 58 50 27 29 48\n",
    "63 66 04 68 89 53 67 30 73 16 69 87 40 31\n",
    "04 62 98 27 23 09 70 98 73 93 38 53 60 04 23\n",
    "\n"
   ]
  },
  {
   "cell_type": "code",
   "execution_count": 35,
   "metadata": {},
   "outputs": [],
   "source": [
    "l1=[75]\n",
    "l2=[95,64]\n",
    "l3=[17,47,82]\n",
    "l4=list(map(int,\"18 35 87 10\".split()))\n",
    "l5=list(map(int,\"20 04 82 47 65\".split()))\n",
    "l6=list(map(int,\"19 01 23 75 03 34\".split()))\n",
    "l7=list(map(int,\"88 02 77 73 07 63 67\".split()))\n",
    "l8=list(map(int,\"99 65 04 28 06 16 70 92\".split()))\n",
    "l9=list(map(int,\"41 41 26 56 83 40 80 70 33\".split()))\n",
    "\n",
    "l10=list(map(int,\"41 48 72 33 47 32 37 16 94 29\".split()))\n",
    "l11=list(map(int,\"53 71 44 65 25 43 91 52 97 51 14\".split()))\n",
    "l12=list(map(int,\"70 11 33 28 77 73 17 78 39 68 17 57\".split()))\n",
    "l13=list(map(int,\"91 71 52 38 17 14 91 43 58 50 27 29 48\".split()))\n",
    "l14=list(map(int,\"63 66 04 68 89 53 67 30 73 16 69 87 40 31\".split()))\n",
    "l15=list(map(int,\"04 62 98 27 23 09 70 98 73 93 38 53 60 04 23\".split()))\n"
   ]
  },
  {
   "cell_type": "code",
   "execution_count": null,
   "metadata": {},
   "outputs": [],
   "source": []
  },
  {
   "cell_type": "code",
   "execution_count": 43,
   "metadata": {},
   "outputs": [],
   "source": [
    "x=2\n",
    "lst=[]\n",
    "for a in range(x):\n",
    "    for b in range(a,a+2):\n",
    "        for c in range(b,b+2):\n",
    "            for d in range(c,c+2):\n",
    "                for e in range(d,d+2):\n",
    "                    for f in range(e,e+2):\n",
    "                        for g in range(f,f+2):\n",
    "                            for h in range(g,g+2):\n",
    "                                for i in range (h,h+2):\n",
    "                                    for j in range(i,i+2):\n",
    "                                        for k in range(j,j+2):\n",
    "                                            for l in range(k,k+2):\n",
    "                                                for m in range(l,l+2):\n",
    "                                                    for n in range(m,m+2):\n",
    "                                                       \n",
    "                                                        a1=l2[a]\n",
    "                                                        b1=l3[b]\n",
    "                                                        c1=l4[c]\n",
    "                                                        d1=l5[d]\n",
    "                                                        e1=l6[e]\n",
    "                                                        f1=l7[f]\n",
    "                                                        g1=l8[g]\n",
    "                                                        h1=l9[h]\n",
    "                                                        i1=l10[i]\n",
    "                                                        j1=l11[j]\n",
    "                                                        k1=l12[k]\n",
    "                                                        l1=l13[l]\n",
    "                                                        m1=l14[m]\n",
    "                                                        n1=l15[n]\n",
    "                                                        lst.append(sum([75,a1,b1,c1,d1,e1,f1,g1,h1,i1,j1,k1,l1,m1,n1]))\n",
    "                                                       \n",
    "                                                           "
   ]
  },
  {
   "cell_type": "code",
   "execution_count": null,
   "metadata": {},
   "outputs": [],
   "source": []
  },
  {
   "cell_type": "code",
   "execution_count": null,
   "metadata": {},
   "outputs": [],
   "source": []
  }
 ],
 "metadata": {
  "kernelspec": {
   "display_name": "Python 3",
   "language": "python",
   "name": "python3"
  },
  "language_info": {
   "codemirror_mode": {
    "name": "ipython",
    "version": 3
   },
   "file_extension": ".py",
   "mimetype": "text/x-python",
   "name": "python",
   "nbconvert_exporter": "python",
   "pygments_lexer": "ipython3",
   "version": "3.7.3"
  }
 },
 "nbformat": 4,
 "nbformat_minor": 2
}
